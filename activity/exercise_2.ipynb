{
 "cells": [
  {
   "cell_type": "markdown",
   "metadata": {},
   "source": [
    "### Exercise 1:\n",
    "\n",
    "Exercise 1: Creating and Using Variables\n",
    "1. Create a variable named age and assign your age to it.\n",
    "2. Create another variable named name and assign your name to it.\n",
    "3. Print out a sentence using both variables, like \"My name is ___ and I am ___ years old.\"\n",
    "\n",
    "Exercise 2: Dynamic Typing in Action\n",
    "1. Create a variable x and assign the value 50 to it.\n",
    "2. Change the value of x to a string of your choice.\n",
    "3. Print x and use the type() function to confirm its type has changed.\n",
    "\n",
    "Exercise 3: Variable Naming\n",
    "1. Create three variables: myAge, MYAGE, and my_age, assigning different values to each.\n",
    "2. Print the value of each variable on a separate line.\n",
    "3. Observe how Python treats each variable as distinct based on case sensitivity and naming."
   ]
  },
  {
   "cell_type": "code",
   "execution_count": 16,
   "metadata": {},
   "outputs": [
    {
     "name": "stdout",
     "output_type": "stream",
     "text": [
      "My Name is Justine Cedrick R. Ambal and I am 20 years old\n"
     ]
    }
   ],
   "source": [
    "age =  20\n",
    "name = \"Justine Cedrick R. Ambal\"\n",
    "print(\"My Name is \" + name + \" and I am \" + str(age) + \" years old\")"
   ]
  },
  {
   "cell_type": "code",
   "execution_count": 9,
   "metadata": {},
   "outputs": [
    {
     "name": "stdout",
     "output_type": "stream",
     "text": [
      "10\n",
      "<class 'int'>\n",
      "Ten\n",
      "<class 'str'>\n"
     ]
    }
   ],
   "source": [
    "x = 10\n",
    "#print (x)\n",
    "#print (type(x))\n",
    "x=\"Ten\"\n",
    "print (x)\n",
    "print (type(x))"
   ]
  },
  {
   "cell_type": "code",
   "execution_count": 10,
   "metadata": {},
   "outputs": [
    {
     "name": "stdout",
     "output_type": "stream",
     "text": [
      "18\n",
      "19\n",
      "20\n"
     ]
    }
   ],
   "source": [
    "myAge = 18\n",
    "MYAGE = 19\n",
    "my_age = 20\n",
    "\n",
    "print(myAge)\n",
    "print(MYAGE)\n",
    "print(my_age)\n",
    "\n",
    "##The python is ccase sensitive therefore the variable name must be observed carefully"
   ]
  },
  {
   "cell_type": "markdown",
   "metadata": {},
   "source": [
    "### Exercise 2:\n",
    "\n",
    "Exercise 1: String Operations\n",
    "\n",
    "1. Create a string variable with the value \"Learning Python\".\n",
    "2. Print the first and last character of the string.\n",
    "3. Use slicing to print the word \"Python\" from the string.\n",
    "\n",
    "Exercise 2: Reversing Strings\n",
    "\n",
    "1. Create a string variable with the value \"PYTHON IS FUN\".\n",
    "2. Reverse the stringand print the result.\n",
    "\n",
    "\n",
    "Exercise 3: String Formatting [BONUS]\n",
    "\n",
    "1. Given two variables, temperature = 25 and day = \"Saturday\", use string formatting to print \"The temperature on Saturday is 25 degrees\"."
   ]
  },
  {
   "cell_type": "code",
   "execution_count": 14,
   "metadata": {},
   "outputs": [
    {
     "name": "stdout",
     "output_type": "stream",
     "text": [
      "L\n",
      "n\n",
      "Python\n"
     ]
    }
   ],
   "source": [
    "dph_val = \"Learning Python\"\n",
    "print(dph_val[0])\n",
    "print(dph_val[len(dph_val)-1])\n",
    "print(dph_val[len(dph_val)-6:])\n"
   ]
  },
  {
   "cell_type": "code",
   "execution_count": 15,
   "metadata": {},
   "outputs": [
    {
     "name": "stdout",
     "output_type": "stream",
     "text": [
      "NUF SI NOHTYP\n"
     ]
    }
   ],
   "source": [
    "rev = \"PYTHON IS FUN\"\n",
    "print(rev[::-1])"
   ]
  },
  {
   "cell_type": "code",
   "execution_count": 18,
   "metadata": {},
   "outputs": [
    {
     "name": "stdout",
     "output_type": "stream",
     "text": [
      "The temperature on Saturday is 25degrees\n"
     ]
    }
   ],
   "source": [
    "temp = 25\n",
    "day =\"Saturday\"\n",
    "print(\"The temperature on \" + day + \" is \" + str(temp) + \" degrees\")"
   ]
  },
  {
   "cell_type": "markdown",
   "metadata": {},
   "source": [
    "### Exercise 3:\n",
    "\n",
    "Exercise 1: Basic Dictionary Operations\n",
    "\n",
    "1. Create a dictionary named student with keys name, age, and course with appropriate values.\n",
    "2. Add a new key-value pair grade with a value of your choice.\n",
    "3. Print the course value using the get() method.\n",
    "\n",
    "Exercise 2: Updating and Removing Items\n",
    "\n",
    "1. Update the age of the student dictionary to a new value.\n",
    "2. Remove the grade item from the dictionary.\n",
    "3. Print the updated dictionary.\n",
    "\n",
    "Exercise 3: Dictionary Comprehension [BONUS]\n",
    "\n",
    "1. Given a list numbers = [1, 2, 3, 4, 5], create a dictionary with keys being the numbers and values being the squares of the numbers using dictionary comprehension.\n",
    "2. Print the created dictionary."
   ]
  },
  {
   "cell_type": "code",
   "execution_count": 30,
   "metadata": {},
   "outputs": [
    {
     "name": "stdout",
     "output_type": "stream",
     "text": [
      "Name: Justine Cedrick R. Ambal\n",
      "Age: 20\n",
      "Course: BSIT-BA\n",
      "Grade: 1.75\n"
     ]
    }
   ],
   "source": [
    "Student = {\n",
    "\t'name' : \"Justine Cedrick R. Ambal\",\n",
    "\t'age' : 19,\n",
    "\t'course' : \"BSIT-BA\"\n",
    "}\n",
    "Student['grade'] = 1.75\n",
    "print(\"Name: \"+Student.get('name'))\n",
    "print(\"Age: \" + str(Student.get('age')))\n",
    "print(\"Course: \"+Student.get('course'))\n",
    "print(\"Grade: \"+ str(Student.get('grade')))"
   ]
  },
  {
   "cell_type": "code",
   "execution_count": 31,
   "metadata": {},
   "outputs": [
    {
     "name": "stdout",
     "output_type": "stream",
     "text": [
      "{'name': 'Justine Cedrick R. Ambal', 'age': 20, 'course': 'BSIT-BA'}\n"
     ]
    }
   ],
   "source": [
    "Student['age'] = 20\n",
    "Student.pop('grade')\n",
    "print(Student)"
   ]
  },
  {
   "cell_type": "code",
   "execution_count": 32,
   "metadata": {},
   "outputs": [
    {
     "name": "stdout",
     "output_type": "stream",
     "text": [
      "{1: 1, 2: 4, 3: 9, 4: 16, 5: 25}\n"
     ]
    }
   ],
   "source": [
    "numbers = [1, 2, 3, 4, 5]\n",
    "dictionary = {i: i**2 for i in numbers}\n",
    "print(dictionary)"
   ]
  }
 ],
 "metadata": {
  "kernelspec": {
   "display_name": "venv",
   "language": "python",
   "name": "python3"
  },
  "language_info": {
   "codemirror_mode": {
    "name": "ipython",
    "version": 3
   },
   "file_extension": ".py",
   "mimetype": "text/x-python",
   "name": "python",
   "nbconvert_exporter": "python",
   "pygments_lexer": "ipython3",
   "version": "3.12.4"
  }
 },
 "nbformat": 4,
 "nbformat_minor": 2
}
